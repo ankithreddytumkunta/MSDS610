{
 "cells": [
  {
   "cell_type": "code",
   "execution_count": 1,
   "metadata": {},
   "outputs": [],
   "source": [
    "import pandas as pd\n",
    "import numpy as np\n",
    "from sqlalchemy import create_engine"
   ]
  },
  {
   "cell_type": "code",
   "execution_count": 9,
   "metadata": {},
   "outputs": [],
   "source": [
    "host = r'127.0.0.1' # denotes that the db in a local installation\n",
    "db = r'MSDS610' # db we just created\n",
    "user = r'postgres' # using the postgres user for this demo\n",
    "pw = r'3637' # this is the password established during installation\n",
    "port = r'5432' # default port estabalished during install\n",
    "schema = r'cleaned' # schema we just created"
   ]
  },
  {
   "cell_type": "code",
   "execution_count": 13,
   "metadata": {},
   "outputs": [],
   "source": [
    "engine = create_engine(f'postgresql://{user}:{pw}@{host}:{port}/{db}')"
   ]
  },
  {
   "cell_type": "code",
   "execution_count": 15,
   "metadata": {},
   "outputs": [
    {
     "data": {
      "text/html": [
       "<div>\n",
       "<style scoped>\n",
       "    .dataframe tbody tr th:only-of-type {\n",
       "        vertical-align: middle;\n",
       "    }\n",
       "\n",
       "    .dataframe tbody tr th {\n",
       "        vertical-align: top;\n",
       "    }\n",
       "\n",
       "    .dataframe thead th {\n",
       "        text-align: right;\n",
       "    }\n",
       "</style>\n",
       "<table border=\"1\" class=\"dataframe\">\n",
       "  <thead>\n",
       "    <tr style=\"text-align: right;\">\n",
       "      <th></th>\n",
       "      <th>year</th>\n",
       "      <th>make</th>\n",
       "      <th>model</th>\n",
       "      <th>trim</th>\n",
       "      <th>body</th>\n",
       "      <th>transmission</th>\n",
       "      <th>vin</th>\n",
       "      <th>state</th>\n",
       "      <th>condition</th>\n",
       "      <th>odometer</th>\n",
       "      <th>color</th>\n",
       "      <th>interior</th>\n",
       "      <th>seller</th>\n",
       "      <th>mmr</th>\n",
       "      <th>sellingprice</th>\n",
       "      <th>saledate</th>\n",
       "    </tr>\n",
       "  </thead>\n",
       "  <tbody>\n",
       "    <tr>\n",
       "      <th>0</th>\n",
       "      <td>2015</td>\n",
       "      <td>0</td>\n",
       "      <td>0</td>\n",
       "      <td>LX</td>\n",
       "      <td>0</td>\n",
       "      <td>0</td>\n",
       "      <td>5xyktca69fg566472</td>\n",
       "      <td>0</td>\n",
       "      <td>5.0</td>\n",
       "      <td>16639.0</td>\n",
       "      <td>0</td>\n",
       "      <td>0</td>\n",
       "      <td>kia motors america  inc</td>\n",
       "      <td>20500.0</td>\n",
       "      <td>21500.0</td>\n",
       "      <td>Tue Dec 16 2014 12:30:00 GMT-0800 (PST)</td>\n",
       "    </tr>\n",
       "    <tr>\n",
       "      <th>1</th>\n",
       "      <td>2015</td>\n",
       "      <td>0</td>\n",
       "      <td>0</td>\n",
       "      <td>LX</td>\n",
       "      <td>0</td>\n",
       "      <td>0</td>\n",
       "      <td>5xyktca69fg561319</td>\n",
       "      <td>0</td>\n",
       "      <td>5.0</td>\n",
       "      <td>9393.0</td>\n",
       "      <td>0</td>\n",
       "      <td>1</td>\n",
       "      <td>kia motors america  inc</td>\n",
       "      <td>20800.0</td>\n",
       "      <td>21500.0</td>\n",
       "      <td>Tue Dec 16 2014 12:30:00 GMT-0800 (PST)</td>\n",
       "    </tr>\n",
       "    <tr>\n",
       "      <th>2</th>\n",
       "      <td>2014</td>\n",
       "      <td>1</td>\n",
       "      <td>1</td>\n",
       "      <td>328i SULEV</td>\n",
       "      <td>1</td>\n",
       "      <td>0</td>\n",
       "      <td>wba3c1c51ek116351</td>\n",
       "      <td>0</td>\n",
       "      <td>45.0</td>\n",
       "      <td>1331.0</td>\n",
       "      <td>1</td>\n",
       "      <td>0</td>\n",
       "      <td>financial services remarketing (lease)</td>\n",
       "      <td>31900.0</td>\n",
       "      <td>30000.0</td>\n",
       "      <td>Thu Jan 15 2015 04:30:00 GMT-0800 (PST)</td>\n",
       "    </tr>\n",
       "    <tr>\n",
       "      <th>3</th>\n",
       "      <td>2015</td>\n",
       "      <td>2</td>\n",
       "      <td>2</td>\n",
       "      <td>T5</td>\n",
       "      <td>1</td>\n",
       "      <td>0</td>\n",
       "      <td>yv1612tb4f1310987</td>\n",
       "      <td>0</td>\n",
       "      <td>41.0</td>\n",
       "      <td>14282.0</td>\n",
       "      <td>0</td>\n",
       "      <td>0</td>\n",
       "      <td>volvo na rep/world omni</td>\n",
       "      <td>27500.0</td>\n",
       "      <td>27750.0</td>\n",
       "      <td>Thu Jan 29 2015 04:30:00 GMT-0800 (PST)</td>\n",
       "    </tr>\n",
       "    <tr>\n",
       "      <th>4</th>\n",
       "      <td>2014</td>\n",
       "      <td>1</td>\n",
       "      <td>3</td>\n",
       "      <td>650i</td>\n",
       "      <td>1</td>\n",
       "      <td>0</td>\n",
       "      <td>wba6b2c57ed129731</td>\n",
       "      <td>0</td>\n",
       "      <td>43.0</td>\n",
       "      <td>2641.0</td>\n",
       "      <td>1</td>\n",
       "      <td>0</td>\n",
       "      <td>financial services remarketing (lease)</td>\n",
       "      <td>66000.0</td>\n",
       "      <td>67000.0</td>\n",
       "      <td>Thu Dec 18 2014 12:30:00 GMT-0800 (PST)</td>\n",
       "    </tr>\n",
       "  </tbody>\n",
       "</table>\n",
       "</div>"
      ],
      "text/plain": [
       "   year  make  model        trim  body  transmission                vin  \\\n",
       "0  2015     0      0          LX     0             0  5xyktca69fg566472   \n",
       "1  2015     0      0          LX     0             0  5xyktca69fg561319   \n",
       "2  2014     1      1  328i SULEV     1             0  wba3c1c51ek116351   \n",
       "3  2015     2      2          T5     1             0  yv1612tb4f1310987   \n",
       "4  2014     1      3        650i     1             0  wba6b2c57ed129731   \n",
       "\n",
       "   state  condition  odometer  color  interior  \\\n",
       "0      0        5.0   16639.0      0         0   \n",
       "1      0        5.0    9393.0      0         1   \n",
       "2      0       45.0    1331.0      1         0   \n",
       "3      0       41.0   14282.0      0         0   \n",
       "4      0       43.0    2641.0      1         0   \n",
       "\n",
       "                                   seller      mmr  sellingprice  \\\n",
       "0                 kia motors america  inc  20500.0       21500.0   \n",
       "1                 kia motors america  inc  20800.0       21500.0   \n",
       "2  financial services remarketing (lease)  31900.0       30000.0   \n",
       "3                 volvo na rep/world omni  27500.0       27750.0   \n",
       "4  financial services remarketing (lease)  66000.0       67000.0   \n",
       "\n",
       "                                  saledate  \n",
       "0  Tue Dec 16 2014 12:30:00 GMT-0800 (PST)  \n",
       "1  Tue Dec 16 2014 12:30:00 GMT-0800 (PST)  \n",
       "2  Thu Jan 15 2015 04:30:00 GMT-0800 (PST)  \n",
       "3  Thu Jan 29 2015 04:30:00 GMT-0800 (PST)  \n",
       "4  Thu Dec 18 2014 12:30:00 GMT-0800 (PST)  "
      ]
     },
     "execution_count": 15,
     "metadata": {},
     "output_type": "execute_result"
    }
   ],
   "source": [
    "# Extract data from the database\n",
    "carprices_data = pd.read_sql_table('carprices_data', engine, schema=schema)\n",
    "carprices_data.head()"
   ]
  },
  {
   "cell_type": "code",
   "execution_count": 17,
   "metadata": {},
   "outputs": [
    {
     "name": "stdout",
     "output_type": "stream",
     "text": [
      "<class 'pandas.core.frame.DataFrame'>\n",
      "RangeIndex: 482346 entries, 0 to 482345\n",
      "Data columns (total 16 columns):\n",
      " #   Column        Non-Null Count   Dtype  \n",
      "---  ------        --------------   -----  \n",
      " 0   year          482346 non-null  int64  \n",
      " 1   make          482346 non-null  int64  \n",
      " 2   model         482346 non-null  int64  \n",
      " 3   trim          482346 non-null  object \n",
      " 4   body          482346 non-null  int64  \n",
      " 5   transmission  482346 non-null  int64  \n",
      " 6   vin           482346 non-null  object \n",
      " 7   state         482346 non-null  int64  \n",
      " 8   condition     482346 non-null  float64\n",
      " 9   odometer      482346 non-null  float64\n",
      " 10  color         482346 non-null  int64  \n",
      " 11  interior      482346 non-null  int64  \n",
      " 12  seller        482346 non-null  object \n",
      " 13  mmr           482346 non-null  float64\n",
      " 14  sellingprice  482346 non-null  float64\n",
      " 15  saledate      482346 non-null  object \n",
      "dtypes: float64(4), int64(8), object(4)\n",
      "memory usage: 58.9+ MB\n"
     ]
    }
   ],
   "source": [
    "carprices_data.info()"
   ]
  },
  {
   "cell_type": "code",
   "execution_count": 19,
   "metadata": {},
   "outputs": [
    {
     "data": {
      "text/plain": [
       "year            0.0\n",
       "make            0.0\n",
       "model           0.0\n",
       "trim            0.0\n",
       "body            0.0\n",
       "transmission    0.0\n",
       "vin             0.0\n",
       "state           0.0\n",
       "condition       0.0\n",
       "odometer        0.0\n",
       "color           0.0\n",
       "interior        0.0\n",
       "seller          0.0\n",
       "mmr             0.0\n",
       "sellingprice    0.0\n",
       "saledate        0.0\n",
       "dtype: float64"
      ]
     },
     "execution_count": 19,
     "metadata": {},
     "output_type": "execute_result"
    }
   ],
   "source": [
    "# Checking Null value percentage\n",
    "carprices_data.isnull().sum()/len(carprices_data)*100"
   ]
  },
  {
   "cell_type": "markdown",
   "metadata": {},
   "source": [
    "#### Transformation 1: Dropping the records with null values in more than 50% of the columns"
   ]
  },
  {
   "cell_type": "code",
   "execution_count": 21,
   "metadata": {},
   "outputs": [
    {
     "data": {
      "text/plain": [
       "year            0.0\n",
       "make            0.0\n",
       "model           0.0\n",
       "trim            0.0\n",
       "body            0.0\n",
       "transmission    0.0\n",
       "vin             0.0\n",
       "state           0.0\n",
       "condition       0.0\n",
       "odometer        0.0\n",
       "color           0.0\n",
       "interior        0.0\n",
       "seller          0.0\n",
       "mmr             0.0\n",
       "sellingprice    0.0\n",
       "saledate        0.0\n",
       "dtype: float64"
      ]
     },
     "execution_count": 21,
     "metadata": {},
     "output_type": "execute_result"
    }
   ],
   "source": [
    "# Dropping the rows with null values in more than 50% of the columns\n",
    "carprices_data = carprices_data.dropna(thresh=carprices_data.shape[1]*0.5)\n",
    "carprices_data.isnull().sum()/len(carprices_data)*100"
   ]
  },
  {
   "cell_type": "markdown",
   "metadata": {},
   "source": [
    "#### Transformation 2: Dropping the records where they don't have a make , model , body and style which is the most important columns for predicing the price"
   ]
  },
  {
   "cell_type": "code",
   "execution_count": 23,
   "metadata": {},
   "outputs": [
    {
     "data": {
      "text/plain": [
       "year            0.0\n",
       "make            0.0\n",
       "model           0.0\n",
       "trim            0.0\n",
       "body            0.0\n",
       "transmission    0.0\n",
       "vin             0.0\n",
       "state           0.0\n",
       "condition       0.0\n",
       "odometer        0.0\n",
       "color           0.0\n",
       "interior        0.0\n",
       "seller          0.0\n",
       "mmr             0.0\n",
       "sellingprice    0.0\n",
       "saledate        0.0\n",
       "dtype: float64"
      ]
     },
     "execution_count": 23,
     "metadata": {},
     "output_type": "execute_result"
    }
   ],
   "source": [
    "# Drop the records where they don't have a make , model , body and style\n",
    "carprices_data = carprices_data.dropna(subset=['make', 'model', 'body', 'transmission'])\n",
    "carprices_data.isnull().sum()/len(carprices_data)*100"
   ]
  },
  {
   "cell_type": "markdown",
   "metadata": {},
   "source": [
    "#### Transformation 3: Imputing the missing values in the columns with mode value and median value based on the data type"
   ]
  },
  {
   "cell_type": "code",
   "execution_count": 25,
   "metadata": {},
   "outputs": [],
   "source": [
    "# Imputing the missing values in the columns with mode value and median value based on the data type\n",
    "carprices_data['condition'] = carprices_data['condition'].fillna(carprices_data['condition'].mean())\n",
    "carprices_data['odometer'] = carprices_data['odometer'].fillna(carprices_data['odometer'].mean())\n",
    "carprices_data['color'] = carprices_data['color'].fillna(carprices_data['color'].mode()[0])\n",
    "carprices_data['interior'] = carprices_data['interior'].fillna(carprices_data['interior'].mode()[0])\n",
    "\n",
    "for parameter in ['mmr', 'sellingprice']:\n",
    "    carprices_data[parameter] = carprices_data[parameter].fillna(carprices_data[parameter].median())\n"
   ]
  },
  {
   "cell_type": "code",
   "execution_count": 27,
   "metadata": {},
   "outputs": [
    {
     "data": {
      "text/plain": [
       "year            0.0\n",
       "make            0.0\n",
       "model           0.0\n",
       "trim            0.0\n",
       "body            0.0\n",
       "transmission    0.0\n",
       "vin             0.0\n",
       "state           0.0\n",
       "condition       0.0\n",
       "odometer        0.0\n",
       "color           0.0\n",
       "interior        0.0\n",
       "seller          0.0\n",
       "mmr             0.0\n",
       "sellingprice    0.0\n",
       "saledate        0.0\n",
       "dtype: float64"
      ]
     },
     "execution_count": 27,
     "metadata": {},
     "output_type": "execute_result"
    }
   ],
   "source": [
    "carprices_data.isnull().sum()/len(carprices_data)*100"
   ]
  },
  {
   "cell_type": "code",
   "execution_count": 29,
   "metadata": {},
   "outputs": [],
   "source": [
    "# Rest dropping the rows with null values\n",
    "carprices_data = carprices_data.dropna()"
   ]
  },
  {
   "cell_type": "code",
   "execution_count": 31,
   "metadata": {},
   "outputs": [],
   "source": [
    "from sqlalchemy import text\n",
    "\n",
    "# Create new schema 'cleaned' in the database if it doesn't exist\n",
    "with engine.connect() as connection:\n",
    "    connection.execute(text('CREATE SCHEMA IF NOT EXISTS cleaned;'))"
   ]
  },
  {
   "cell_type": "markdown",
   "metadata": {},
   "source": [
    "#### Transformation 4: Checking the outliers in the data for column \"sellingprice\" and applying log transformation"
   ]
  },
  {
   "cell_type": "code",
   "execution_count": 33,
   "metadata": {},
   "outputs": [
    {
     "data": {
      "image/png": "[encoded data removed]",
      "text/plain": [
       "<Figure size 1000x600 with 1 Axes>"
      ]
     },
     "metadata": {},
     "output_type": "display_data"
    },
    {
     "name": "stdout",
     "output_type": "stream",
     "text": [
      "\n",
      "Statistical Summary of Selling Price:\n",
      "count    482346.000000\n",
      "mean      13563.065364\n",
      "std        9636.034280\n",
      "min           1.000000\n",
      "25%        7000.000000\n",
      "50%       12100.000000\n",
      "75%       18000.000000\n",
      "max      230000.000000\n",
      "Name: sellingprice, dtype: float64\n"
     ]
    }
   ],
   "source": [
    "# Create a box plot for selling price to check outliers\n",
    "import matplotlib.pyplot as plt\n",
    "import seaborn as sns\n",
    "\n",
    "plt.figure(figsize=(10, 6))\n",
    "sns.boxplot(y=carprices_data['sellingprice'])\n",
    "plt.title('Box Plot of Selling Price')\n",
    "plt.ylabel('Selling Price ($)')\n",
    "plt.show()\n",
    "\n",
    "# Get statistical summary of selling price\n",
    "print(\"\\nStatistical Summary of Selling Price:\")\n",
    "print(carprices_data['sellingprice'].describe())"
   ]
  },
  {
   "cell_type": "markdown",
   "metadata": {},
   "source": [
    "Price Distribution Analysis:\n",
    "- The car price data shows significant outliers in the higher price range\n",
    "- However, these outliers cannot be removed because:\n",
    "  1. They represent legitimate luxury and high-end vehicle sales\n",
    "  2. Removing them would bias our dataset towards only lower-priced vehicles\n",
    "  3. They are valid data points that reflect the real market diversity"
   ]
  },
  {
   "cell_type": "code",
   "execution_count": 35,
   "metadata": {},
   "outputs": [
    {
     "data": {
      "image/png": "[encoded data removed]",
      "text/plain": [
       "<Figure size 1500x600 with 2 Axes>"
      ]
     },
     "metadata": {},
     "output_type": "display_data"
    },
    {
     "name": "stdout",
     "output_type": "stream",
     "text": [
      "\n",
      "Original Selling Price Summary:\n",
      "count    482346.000000\n",
      "mean      13563.065364\n",
      "std        9636.034280\n",
      "min           1.000000\n",
      "25%        7000.000000\n",
      "50%       12100.000000\n",
      "75%       18000.000000\n",
      "max      230000.000000\n",
      "Name: sellingprice, dtype: float64\n",
      "\n",
      "Log-Transformed Selling Price Summary:\n",
      "count    482346.000000\n",
      "mean          9.212852\n",
      "std           0.902101\n",
      "min           0.000000\n",
      "25%           8.853665\n",
      "50%           9.400961\n",
      "75%           9.798127\n",
      "max          12.345835\n",
      "Name: sellingprice, dtype: float64\n"
     ]
    }
   ],
   "source": [
    "# Create side-by-side box plots of original and log-transformed selling price\n",
    "import matplotlib.pyplot as plt\n",
    "import seaborn as sns\n",
    "import numpy as np\n",
    "\n",
    "# Create a figure with two subplots side by side\n",
    "fig, (ax1, ax2) = plt.subplots(1, 2, figsize=(15, 6))\n",
    "\n",
    "# Original box plot\n",
    "sns.boxplot(y=carprices_data['sellingprice'], ax=ax1)\n",
    "ax1.set_title('Original Selling Price')\n",
    "ax1.set_ylabel('Selling Price ($)')\n",
    "\n",
    "# Log-transformed box plot\n",
    "log_price = np.log(carprices_data['sellingprice'])\n",
    "sns.boxplot(y=log_price, ax=ax2)\n",
    "ax2.set_title('Log-Transformed Selling Price')\n",
    "ax2.set_ylabel('Log(Selling Price)')\n",
    "\n",
    "plt.tight_layout()\n",
    "plt.show()\n",
    "\n",
    "# Print statistical summaries\n",
    "print(\"\\nOriginal Selling Price Summary:\")\n",
    "print(carprices_data['sellingprice'].describe())\n",
    "print(\"\\nLog-Transformed Selling Price Summary:\")\n",
    "print(log_price.describe())"
   ]
  },
  {
   "cell_type": "markdown",
   "metadata": {},
   "source": [
    "Solution:\n",
    "- Instead of removing outliers, we apply log transformation because:\n",
    "  1. It helps normalize the price distribution\n",
    "  2. Reduces the effect of extreme values while preserving them\n",
    "  3. Makes the data more suitable for statistical analysis\n",
    "  4. Common practice in price/financial data analysis"
   ]
  },
  {
   "cell_type": "code",
   "execution_count": 37,
   "metadata": {},
   "outputs": [],
   "source": [
    "carprices_data['log_sellingprice'] = np.log(carprices_data['sellingprice'])"
   ]
  },
  {
   "cell_type": "markdown",
   "metadata": {},
   "source": [
    "#### Transformation 5: Categorical mapping and dimensional table creation for below columns"
   ]
  },
  {
   "cell_type": "code",
   "execution_count": 39,
   "metadata": {},
   "outputs": [],
   "source": [
    "# Categorical mapping and dimensional table creation for below columns\n",
    "\"\"\"\n",
    "1. make\n",
    "2. model\n",
    "3. body\n",
    "4. transmission\n",
    "5. color [color_id, color] colors table\n",
    "6. interior [color_id, color] colors table\n",
    "7. state\n",
    "\"\"\"\n",
    "\n",
    "# create a dictionary for the above columns and create the tables in the database # note for color and interior we need to create a separate single table (colours)\n",
    "categorical_columns = ['make', 'model', 'body', 'transmission', 'color', 'interior', 'state']\n",
    "\n",
    "for column in categorical_columns:\n",
    "    if column == 'color' or column == 'interior':\n",
    "        table_name = 'colors'\n",
    "        colours = pd.DataFrame(carprices_data[column].unique(), columns=[column])\n",
    "        colours = colours.reset_index(drop=True).reset_index()\n",
    "        colours = colours.rename(columns={'index': f'{column}_id'})\n",
    "        colours.to_sql(table_name, engine, schema='cleaned', if_exists='replace', index=False)\n",
    "\n",
    "        # map the color_id to the ids in the data frame\n",
    "        carprices_data[column] = carprices_data[column].map(colours.set_index(column)[f'{column}_id'])\n",
    "\n",
    "\n",
    "    else:\n",
    "        table_name = column\n",
    "        column_data = pd.DataFrame(carprices_data[column].unique(), columns=[column])\n",
    "        column_data = column_data.reset_index(drop=True).reset_index()\n",
    "        column_data = column_data.rename(columns={'index': f'{column}_id'})\n",
    "        column_data.to_sql(table_name, engine, schema='cleaned', if_exists='replace', index=False)\n",
    "\n",
    "        # map the column to the ids in the data frame\n",
    "        carprices_data[column] = carprices_data[column].map(column_data.set_index(column)[f'{column}_id'])\n"
   ]
  },
  {
   "cell_type": "code",
   "execution_count": 41,
   "metadata": {},
   "outputs": [
    {
     "data": {
      "text/html": [
       "<div>\n",
       "<style scoped>\n",
       "    .dataframe tbody tr th:only-of-type {\n",
       "        vertical-align: middle;\n",
       "    }\n",
       "\n",
       "    .dataframe tbody tr th {\n",
       "        vertical-align: top;\n",
       "    }\n",
       "\n",
       "    .dataframe thead th {\n",
       "        text-align: right;\n",
       "    }\n",
       "</style>\n",
       "<table border=\"1\" class=\"dataframe\">\n",
       "  <thead>\n",
       "    <tr style=\"text-align: right;\">\n",
       "      <th></th>\n",
       "      <th>year</th>\n",
       "      <th>make</th>\n",
       "      <th>model</th>\n",
       "      <th>trim</th>\n",
       "      <th>body</th>\n",
       "      <th>transmission</th>\n",
       "      <th>vin</th>\n",
       "      <th>state</th>\n",
       "      <th>condition</th>\n",
       "      <th>odometer</th>\n",
       "      <th>color</th>\n",
       "      <th>interior</th>\n",
       "      <th>seller</th>\n",
       "      <th>mmr</th>\n",
       "      <th>sellingprice</th>\n",
       "      <th>saledate</th>\n",
       "      <th>log_sellingprice</th>\n",
       "    </tr>\n",
       "  </thead>\n",
       "  <tbody>\n",
       "    <tr>\n",
       "      <th>0</th>\n",
       "      <td>2015</td>\n",
       "      <td>0</td>\n",
       "      <td>0</td>\n",
       "      <td>LX</td>\n",
       "      <td>0</td>\n",
       "      <td>0</td>\n",
       "      <td>5xyktca69fg566472</td>\n",
       "      <td>0</td>\n",
       "      <td>5.0</td>\n",
       "      <td>16639.0</td>\n",
       "      <td>0</td>\n",
       "      <td>0</td>\n",
       "      <td>kia motors america  inc</td>\n",
       "      <td>20500.0</td>\n",
       "      <td>21500.0</td>\n",
       "      <td>Tue Dec 16 2014 12:30:00 GMT-0800 (PST)</td>\n",
       "      <td>9.975808</td>\n",
       "    </tr>\n",
       "    <tr>\n",
       "      <th>1</th>\n",
       "      <td>2015</td>\n",
       "      <td>0</td>\n",
       "      <td>0</td>\n",
       "      <td>LX</td>\n",
       "      <td>0</td>\n",
       "      <td>0</td>\n",
       "      <td>5xyktca69fg561319</td>\n",
       "      <td>0</td>\n",
       "      <td>5.0</td>\n",
       "      <td>9393.0</td>\n",
       "      <td>0</td>\n",
       "      <td>1</td>\n",
       "      <td>kia motors america  inc</td>\n",
       "      <td>20800.0</td>\n",
       "      <td>21500.0</td>\n",
       "      <td>Tue Dec 16 2014 12:30:00 GMT-0800 (PST)</td>\n",
       "      <td>9.975808</td>\n",
       "    </tr>\n",
       "    <tr>\n",
       "      <th>2</th>\n",
       "      <td>2014</td>\n",
       "      <td>1</td>\n",
       "      <td>1</td>\n",
       "      <td>328i SULEV</td>\n",
       "      <td>1</td>\n",
       "      <td>0</td>\n",
       "      <td>wba3c1c51ek116351</td>\n",
       "      <td>0</td>\n",
       "      <td>45.0</td>\n",
       "      <td>1331.0</td>\n",
       "      <td>1</td>\n",
       "      <td>0</td>\n",
       "      <td>financial services remarketing (lease)</td>\n",
       "      <td>31900.0</td>\n",
       "      <td>30000.0</td>\n",
       "      <td>Thu Jan 15 2015 04:30:00 GMT-0800 (PST)</td>\n",
       "      <td>10.308953</td>\n",
       "    </tr>\n",
       "    <tr>\n",
       "      <th>3</th>\n",
       "      <td>2015</td>\n",
       "      <td>2</td>\n",
       "      <td>2</td>\n",
       "      <td>T5</td>\n",
       "      <td>1</td>\n",
       "      <td>0</td>\n",
       "      <td>yv1612tb4f1310987</td>\n",
       "      <td>0</td>\n",
       "      <td>41.0</td>\n",
       "      <td>14282.0</td>\n",
       "      <td>0</td>\n",
       "      <td>0</td>\n",
       "      <td>volvo na rep/world omni</td>\n",
       "      <td>27500.0</td>\n",
       "      <td>27750.0</td>\n",
       "      <td>Thu Jan 29 2015 04:30:00 GMT-0800 (PST)</td>\n",
       "      <td>10.230991</td>\n",
       "    </tr>\n",
       "    <tr>\n",
       "      <th>4</th>\n",
       "      <td>2014</td>\n",
       "      <td>1</td>\n",
       "      <td>3</td>\n",
       "      <td>650i</td>\n",
       "      <td>1</td>\n",
       "      <td>0</td>\n",
       "      <td>wba6b2c57ed129731</td>\n",
       "      <td>0</td>\n",
       "      <td>43.0</td>\n",
       "      <td>2641.0</td>\n",
       "      <td>1</td>\n",
       "      <td>0</td>\n",
       "      <td>financial services remarketing (lease)</td>\n",
       "      <td>66000.0</td>\n",
       "      <td>67000.0</td>\n",
       "      <td>Thu Dec 18 2014 12:30:00 GMT-0800 (PST)</td>\n",
       "      <td>11.112448</td>\n",
       "    </tr>\n",
       "  </tbody>\n",
       "</table>\n",
       "</div>"
      ],
      "text/plain": [
       "   year  make  model        trim  body  transmission                vin  \\\n",
       "0  2015     0      0          LX     0             0  5xyktca69fg566472   \n",
       "1  2015     0      0          LX     0             0  5xyktca69fg561319   \n",
       "2  2014     1      1  328i SULEV     1             0  wba3c1c51ek116351   \n",
       "3  2015     2      2          T5     1             0  yv1612tb4f1310987   \n",
       "4  2014     1      3        650i     1             0  wba6b2c57ed129731   \n",
       "\n",
       "   state  condition  odometer  color  interior  \\\n",
       "0      0        5.0   16639.0      0         0   \n",
       "1      0        5.0    9393.0      0         1   \n",
       "2      0       45.0    1331.0      1         0   \n",
       "3      0       41.0   14282.0      0         0   \n",
       "4      0       43.0    2641.0      1         0   \n",
       "\n",
       "                                   seller      mmr  sellingprice  \\\n",
       "0                 kia motors america  inc  20500.0       21500.0   \n",
       "1                 kia motors america  inc  20800.0       21500.0   \n",
       "2  financial services remarketing (lease)  31900.0       30000.0   \n",
       "3                 volvo na rep/world omni  27500.0       27750.0   \n",
       "4  financial services remarketing (lease)  66000.0       67000.0   \n",
       "\n",
       "                                  saledate  log_sellingprice  \n",
       "0  Tue Dec 16 2014 12:30:00 GMT-0800 (PST)          9.975808  \n",
       "1  Tue Dec 16 2014 12:30:00 GMT-0800 (PST)          9.975808  \n",
       "2  Thu Jan 15 2015 04:30:00 GMT-0800 (PST)         10.308953  \n",
       "3  Thu Jan 29 2015 04:30:00 GMT-0800 (PST)         10.230991  \n",
       "4  Thu Dec 18 2014 12:30:00 GMT-0800 (PST)         11.112448  "
      ]
     },
     "execution_count": 41,
     "metadata": {},
     "output_type": "execute_result"
    }
   ],
   "source": [
    "carprices_data.head()"
   ]
  },
  {
   "cell_type": "code",
   "execution_count": 43,
   "metadata": {},
   "outputs": [
    {
     "data": {
      "text/plain": [
       "482346"
      ]
     },
     "execution_count": 43,
     "metadata": {},
     "output_type": "execute_result"
    }
   ],
   "source": [
    "# push fact table to the database\n",
    "carprices_data.to_sql('carprices_data', engine, schema='cleaned', if_exists='replace', index=False, chunksize=1000, method='multi')"
   ]
  }
 ],
 "metadata": {
  "kernelspec": {
   "display_name": "Python 3 (ipykernel)",
   "language": "python",
   "name": "python3"
  },
  "language_info": {
   "codemirror_mode": {
    "name": "ipython",
    "version": 3
   },
   "file_extension": ".py",
   "mimetype": "text/x-python",
   "name": "python",
   "nbconvert_exporter": "python",
   "pygments_lexer": "ipython3",
   "version": "3.12.3"
  }
 },
 "nbformat": 4,
 "nbformat_minor": 4
}
